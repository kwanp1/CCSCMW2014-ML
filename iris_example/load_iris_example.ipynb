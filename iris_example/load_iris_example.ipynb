{
 "metadata": {
  "name": "load_iris_example"
 }, 
 "nbformat": 2, 
 "worksheets": [
  {
   "cells": [
    {
     "cell_type": "code", 
     "collapsed": true, 
     "input": [
      "from sklearn import datasets"
     ], 
     "language": "python", 
     "outputs": [], 
     "prompt_number": 1
    }, 
    {
     "cell_type": "code", 
     "collapsed": false, 
     "input": [
      "iris = datasets.load_iris()"
     ], 
     "language": "python", 
     "outputs": [], 
     "prompt_number": 3
    }, 
    {
     "cell_type": "code", 
     "collapsed": false, 
     "input": [
      "iris.data.shape"
     ], 
     "language": "python", 
     "outputs": [
      {
       "output_type": "pyout", 
       "prompt_number": 4, 
       "text": [
        "(150, 4)"
       ]
      }
     ], 
     "prompt_number": 4
    }, 
    {
     "cell_type": "code", 
     "collapsed": false, 
     "input": [
      "iris.target.shape"
     ], 
     "language": "python", 
     "outputs": [
      {
       "output_type": "pyout", 
       "prompt_number": 5, 
       "text": [
        "(150,)"
       ]
      }
     ], 
     "prompt_number": 5
    }, 
    {
     "cell_type": "code", 
     "collapsed": false, 
     "input": [
      "iris.feature_names"
     ], 
     "language": "python", 
     "outputs": [
      {
       "output_type": "pyout", 
       "prompt_number": 7, 
       "text": [
        "['sepal length (cm)',", 
        " 'sepal width (cm)',", 
        " 'petal length (cm)',", 
        " 'petal width (cm)']"
       ]
      }
     ], 
     "prompt_number": 7
    }, 
    {
     "cell_type": "code", 
     "collapsed": false, 
     "input": [
      "iris.target_names"
     ], 
     "language": "python", 
     "outputs": [
      {
       "output_type": "pyout", 
       "prompt_number": 8, 
       "text": [
        "array(['setosa', 'versicolor', 'virginica'], ", 
        "      dtype='|S10')"
       ]
      }
     ], 
     "prompt_number": 8
    }, 
    {
     "cell_type": "code", 
     "collapsed": false, 
     "input": [
      "iris.data"
     ], 
     "language": "python", 
     "outputs": [
      {
       "output_type": "pyout", 
       "prompt_number": 9, 
       "text": [
        "array([[ 5.1,  3.5,  1.4,  0.2],", 
        "       [ 4.9,  3. ,  1.4,  0.2],", 
        "       [ 4.7,  3.2,  1.3,  0.2],", 
        "       [ 4.6,  3.1,  1.5,  0.2],", 
        "       [ 5. ,  3.6,  1.4,  0.2],", 
        "       [ 5.4,  3.9,  1.7,  0.4],", 
        "       [ 4.6,  3.4,  1.4,  0.3],", 
        "       [ 5. ,  3.4,  1.5,  0.2],", 
        "       [ 4.4,  2.9,  1.4,  0.2],", 
        "       [ 4.9,  3.1,  1.5,  0.1],", 
        "       [ 5.4,  3.7,  1.5,  0.2],", 
        "       [ 4.8,  3.4,  1.6,  0.2],", 
        "       [ 4.8,  3. ,  1.4,  0.1],", 
        "       [ 4.3,  3. ,  1.1,  0.1],", 
        "       [ 5.8,  4. ,  1.2,  0.2],", 
        "       [ 5.7,  4.4,  1.5,  0.4],", 
        "       [ 5.4,  3.9,  1.3,  0.4],", 
        "       [ 5.1,  3.5,  1.4,  0.3],", 
        "       [ 5.7,  3.8,  1.7,  0.3],", 
        "       [ 5.1,  3.8,  1.5,  0.3],", 
        "       [ 5.4,  3.4,  1.7,  0.2],", 
        "       [ 5.1,  3.7,  1.5,  0.4],", 
        "       [ 4.6,  3.6,  1. ,  0.2],", 
        "       [ 5.1,  3.3,  1.7,  0.5],", 
        "       [ 4.8,  3.4,  1.9,  0.2],", 
        "       [ 5. ,  3. ,  1.6,  0.2],", 
        "       [ 5. ,  3.4,  1.6,  0.4],", 
        "       [ 5.2,  3.5,  1.5,  0.2],", 
        "       [ 5.2,  3.4,  1.4,  0.2],", 
        "       [ 4.7,  3.2,  1.6,  0.2],", 
        "       [ 4.8,  3.1,  1.6,  0.2],", 
        "       [ 5.4,  3.4,  1.5,  0.4],", 
        "       [ 5.2,  4.1,  1.5,  0.1],", 
        "       [ 5.5,  4.2,  1.4,  0.2],", 
        "       [ 4.9,  3.1,  1.5,  0.1],", 
        "       [ 5. ,  3.2,  1.2,  0.2],", 
        "       [ 5.5,  3.5,  1.3,  0.2],", 
        "       [ 4.9,  3.1,  1.5,  0.1],", 
        "       [ 4.4,  3. ,  1.3,  0.2],", 
        "       [ 5.1,  3.4,  1.5,  0.2],", 
        "       [ 5. ,  3.5,  1.3,  0.3],", 
        "       [ 4.5,  2.3,  1.3,  0.3],", 
        "       [ 4.4,  3.2,  1.3,  0.2],", 
        "       [ 5. ,  3.5,  1.6,  0.6],", 
        "       [ 5.1,  3.8,  1.9,  0.4],", 
        "       [ 4.8,  3. ,  1.4,  0.3],", 
        "       [ 5.1,  3.8,  1.6,  0.2],", 
        "       [ 4.6,  3.2,  1.4,  0.2],", 
        "       [ 5.3,  3.7,  1.5,  0.2],", 
        "       [ 5. ,  3.3,  1.4,  0.2],", 
        "       [ 7. ,  3.2,  4.7,  1.4],", 
        "       [ 6.4,  3.2,  4.5,  1.5],", 
        "       [ 6.9,  3.1,  4.9,  1.5],", 
        "       [ 5.5,  2.3,  4. ,  1.3],", 
        "       [ 6.5,  2.8,  4.6,  1.5],", 
        "       [ 5.7,  2.8,  4.5,  1.3],", 
        "       [ 6.3,  3.3,  4.7,  1.6],", 
        "       [ 4.9,  2.4,  3.3,  1. ],", 
        "       [ 6.6,  2.9,  4.6,  1.3],", 
        "       [ 5.2,  2.7,  3.9,  1.4],", 
        "       [ 5. ,  2. ,  3.5,  1. ],", 
        "       [ 5.9,  3. ,  4.2,  1.5],", 
        "       [ 6. ,  2.2,  4. ,  1. ],", 
        "       [ 6.1,  2.9,  4.7,  1.4],", 
        "       [ 5.6,  2.9,  3.6,  1.3],", 
        "       [ 6.7,  3.1,  4.4,  1.4],", 
        "       [ 5.6,  3. ,  4.5,  1.5],", 
        "       [ 5.8,  2.7,  4.1,  1. ],", 
        "       [ 6.2,  2.2,  4.5,  1.5],", 
        "       [ 5.6,  2.5,  3.9,  1.1],", 
        "       [ 5.9,  3.2,  4.8,  1.8],", 
        "       [ 6.1,  2.8,  4. ,  1.3],", 
        "       [ 6.3,  2.5,  4.9,  1.5],", 
        "       [ 6.1,  2.8,  4.7,  1.2],", 
        "       [ 6.4,  2.9,  4.3,  1.3],", 
        "       [ 6.6,  3. ,  4.4,  1.4],", 
        "       [ 6.8,  2.8,  4.8,  1.4],", 
        "       [ 6.7,  3. ,  5. ,  1.7],", 
        "       [ 6. ,  2.9,  4.5,  1.5],", 
        "       [ 5.7,  2.6,  3.5,  1. ],", 
        "       [ 5.5,  2.4,  3.8,  1.1],", 
        "       [ 5.5,  2.4,  3.7,  1. ],", 
        "       [ 5.8,  2.7,  3.9,  1.2],", 
        "       [ 6. ,  2.7,  5.1,  1.6],", 
        "       [ 5.4,  3. ,  4.5,  1.5],", 
        "       [ 6. ,  3.4,  4.5,  1.6],", 
        "       [ 6.7,  3.1,  4.7,  1.5],", 
        "       [ 6.3,  2.3,  4.4,  1.3],", 
        "       [ 5.6,  3. ,  4.1,  1.3],", 
        "       [ 5.5,  2.5,  4. ,  1.3],", 
        "       [ 5.5,  2.6,  4.4,  1.2],", 
        "       [ 6.1,  3. ,  4.6,  1.4],", 
        "       [ 5.8,  2.6,  4. ,  1.2],", 
        "       [ 5. ,  2.3,  3.3,  1. ],", 
        "       [ 5.6,  2.7,  4.2,  1.3],", 
        "       [ 5.7,  3. ,  4.2,  1.2],", 
        "       [ 5.7,  2.9,  4.2,  1.3],", 
        "       [ 6.2,  2.9,  4.3,  1.3],", 
        "       [ 5.1,  2.5,  3. ,  1.1],", 
        "       [ 5.7,  2.8,  4.1,  1.3],", 
        "       [ 6.3,  3.3,  6. ,  2.5],", 
        "       [ 5.8,  2.7,  5.1,  1.9],", 
        "       [ 7.1,  3. ,  5.9,  2.1],", 
        "       [ 6.3,  2.9,  5.6,  1.8],", 
        "       [ 6.5,  3. ,  5.8,  2.2],", 
        "       [ 7.6,  3. ,  6.6,  2.1],", 
        "       [ 4.9,  2.5,  4.5,  1.7],", 
        "       [ 7.3,  2.9,  6.3,  1.8],", 
        "       [ 6.7,  2.5,  5.8,  1.8],", 
        "       [ 7.2,  3.6,  6.1,  2.5],", 
        "       [ 6.5,  3.2,  5.1,  2. ],", 
        "       [ 6.4,  2.7,  5.3,  1.9],", 
        "       [ 6.8,  3. ,  5.5,  2.1],", 
        "       [ 5.7,  2.5,  5. ,  2. ],", 
        "       [ 5.8,  2.8,  5.1,  2.4],", 
        "       [ 6.4,  3.2,  5.3,  2.3],", 
        "       [ 6.5,  3. ,  5.5,  1.8],", 
        "       [ 7.7,  3.8,  6.7,  2.2],", 
        "       [ 7.7,  2.6,  6.9,  2.3],", 
        "       [ 6. ,  2.2,  5. ,  1.5],", 
        "       [ 6.9,  3.2,  5.7,  2.3],", 
        "       [ 5.6,  2.8,  4.9,  2. ],", 
        "       [ 7.7,  2.8,  6.7,  2. ],", 
        "       [ 6.3,  2.7,  4.9,  1.8],", 
        "       [ 6.7,  3.3,  5.7,  2.1],", 
        "       [ 7.2,  3.2,  6. ,  1.8],", 
        "       [ 6.2,  2.8,  4.8,  1.8],", 
        "       [ 6.1,  3. ,  4.9,  1.8],", 
        "       [ 6.4,  2.8,  5.6,  2.1],", 
        "       [ 7.2,  3. ,  5.8,  1.6],", 
        "       [ 7.4,  2.8,  6.1,  1.9],", 
        "       [ 7.9,  3.8,  6.4,  2. ],", 
        "       [ 6.4,  2.8,  5.6,  2.2],", 
        "       [ 6.3,  2.8,  5.1,  1.5],", 
        "       [ 6.1,  2.6,  5.6,  1.4],", 
        "       [ 7.7,  3. ,  6.1,  2.3],", 
        "       [ 6.3,  3.4,  5.6,  2.4],", 
        "       [ 6.4,  3.1,  5.5,  1.8],", 
        "       [ 6. ,  3. ,  4.8,  1.8],", 
        "       [ 6.9,  3.1,  5.4,  2.1],", 
        "       [ 6.7,  3.1,  5.6,  2.4],", 
        "       [ 6.9,  3.1,  5.1,  2.3],", 
        "       [ 5.8,  2.7,  5.1,  1.9],", 
        "       [ 6.8,  3.2,  5.9,  2.3],", 
        "       [ 6.7,  3.3,  5.7,  2.5],", 
        "       [ 6.7,  3. ,  5.2,  2.3],", 
        "       [ 6.3,  2.5,  5. ,  1.9],", 
        "       [ 6.5,  3. ,  5.2,  2. ],", 
        "       [ 6.2,  3.4,  5.4,  2.3],", 
        "       [ 5.9,  3. ,  5.1,  1.8]])"
       ]
      }
     ], 
     "prompt_number": 9
    }, 
    {
     "cell_type": "code", 
     "collapsed": false, 
     "input": [
      "iris.target"
     ], 
     "language": "python", 
     "outputs": [
      {
       "output_type": "pyout", 
       "prompt_number": 10, 
       "text": [
        "array([0, 0, 0, 0, 0, 0, 0, 0, 0, 0, 0, 0, 0, 0, 0, 0, 0, 0, 0, 0, 0, 0, 0,", 
        "       0, 0, 0, 0, 0, 0, 0, 0, 0, 0, 0, 0, 0, 0, 0, 0, 0, 0, 0, 0, 0, 0, 0,", 
        "       0, 0, 0, 0, 1, 1, 1, 1, 1, 1, 1, 1, 1, 1, 1, 1, 1, 1, 1, 1, 1, 1, 1,", 
        "       1, 1, 1, 1, 1, 1, 1, 1, 1, 1, 1, 1, 1, 1, 1, 1, 1, 1, 1, 1, 1, 1, 1,", 
        "       1, 1, 1, 1, 1, 1, 1, 1, 2, 2, 2, 2, 2, 2, 2, 2, 2, 2, 2, 2, 2, 2, 2,", 
        "       2, 2, 2, 2, 2, 2, 2, 2, 2, 2, 2, 2, 2, 2, 2, 2, 2, 2, 2, 2, 2, 2, 2,", 
        "       2, 2, 2, 2, 2, 2, 2, 2, 2, 2, 2, 2])"
       ]
      }
     ], 
     "prompt_number": 10
    }, 
    {
     "cell_type": "code", 
     "collapsed": true, 
     "input": [
      "import pylab"
     ], 
     "language": "python", 
     "outputs": [], 
     "prompt_number": 11
    }, 
    {
     "cell_type": "code", 
     "collapsed": false, 
     "input": [
      "%pylab"
     ], 
     "language": "python", 
     "outputs": [
      {
       "output_type": "stream", 
       "stream": "stdout", 
       "text": [
        "", 
        "Welcome to pylab, a matplotlib-based Python environment [backend: TkAgg].", 
        "For more information, type 'help(pylab)'."
       ]
      }, 
      {
       "output_type": "stream", 
       "stream": "stderr", 
       "text": [
        "/usr/lib/pymodules/python2.7/matplotlib/__init__.py:923: UserWarning:  This call to matplotlib.use() has no effect", 
        "because the the backend has already been chosen;", 
        "matplotlib.use() must be called *before* pylab, matplotlib.pyplot,", 
        "or matplotlib.backends is imported for the first time.", 
        "", 
        "  if warn: warnings.warn(_use_error_msg)"
       ]
      }
     ], 
     "prompt_number": 12
    }, 
    {
     "cell_type": "code", 
     "collapsed": false, 
     "input": [
      "x,y = iris.data, iris.target"
     ], 
     "language": "python", 
     "outputs": [], 
     "prompt_number": 14
    }, 
    {
     "cell_type": "code", 
     "collapsed": false, 
     "input": [
      "plt.scatter(x[y == 0,0],x[y == 0,1],marker='>',c='r')"
     ], 
     "language": "python", 
     "outputs": [
      {
       "output_type": "pyout", 
       "prompt_number": 15, 
       "text": [
        "<matplotlib.collections.PathCollection at 0xa3f03ec>"
       ]
      }
     ], 
     "prompt_number": 15
    }, 
    {
     "cell_type": "code", 
     "collapsed": false, 
     "input": [
      "xlabel(iris.feature_names[0])"
     ], 
     "language": "python", 
     "outputs": [
      {
       "output_type": "pyout", 
       "prompt_number": 16, 
       "text": [
        "<matplotlib.text.Text at 0x9eb48ac>"
       ]
      }
     ], 
     "prompt_number": 16
    }, 
    {
     "cell_type": "code", 
     "collapsed": false, 
     "input": [
      "ylabel(iris.feature_names[1])"
     ], 
     "language": "python", 
     "outputs": [
      {
       "output_type": "pyout", 
       "prompt_number": 19, 
       "text": [
        "<matplotlib.text.Text at 0xa1e210c>"
       ]
      }
     ], 
     "prompt_number": 19
    }, 
    {
     "cell_type": "code", 
     "collapsed": false, 
     "input": [
      "plt.scatter(x[y == 1,0],x[y == 1,1],marker='x',c='b')"
     ], 
     "language": "python", 
     "outputs": [
      {
       "output_type": "pyout", 
       "prompt_number": 20, 
       "text": [
        "<matplotlib.collections.PathCollection at 0xa3ff6cc>"
       ]
      }
     ], 
     "prompt_number": 20
    }, 
    {
     "cell_type": "code", 
     "collapsed": false, 
     "input": [
      "plt.scatter(x[y == 2,0],x[y == 2,1],marker='x',c='y')"
     ], 
     "language": "python", 
     "outputs": [
      {
       "output_type": "pyout", 
       "prompt_number": 21, 
       "text": [
        "<matplotlib.collections.PathCollection at 0xa40750c>"
       ]
      }
     ], 
     "prompt_number": 21
    }, 
    {
     "cell_type": "code", 
     "collapsed": true, 
     "input": [], 
     "language": "python", 
     "outputs": []
    }
   ]
  }
 ]
}